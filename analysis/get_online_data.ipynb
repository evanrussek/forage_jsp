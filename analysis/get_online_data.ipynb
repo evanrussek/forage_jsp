{
 "cells": [
  {
   "cell_type": "code",
   "execution_count": 1,
   "metadata": {},
   "outputs": [],
   "source": [
    "import numpy as np\n",
    "import matplotlib.pyplot as plt\n",
    "import matplotlib\n",
    "import seaborn as sns\n",
    "import pandas as pd\n",
    "import firebase_admin\n",
    "from firebase_admin import credentials, firestore, db\n",
    "import json"
   ]
  },
  {
   "cell_type": "code",
   "execution_count": 4,
   "metadata": {},
   "outputs": [],
   "source": [
    "# firebase login stuff\n",
    "\n",
    "### make a credential json...\n",
    "\n",
    "cred = credentials.Certificate(\"C:\\\\Users\\\\erussek\\\\forage_jsp\\\\analysis\\\\foragetask-firebase-private-key.json\")\n",
    "default_app = firebase_admin.initialize_app(cred)\n",
    "client = firestore.client()"
   ]
  },
  {
   "cell_type": "code",
   "execution_count": 106,
   "metadata": {},
   "outputs": [],
   "source": [
    "dfs = []\n",
    "bonus_df = pd.DataFrame()\n",
    "for subj in client.collection('foragetask').document('run1').collection('subjects').stream():\n",
    "    subj_dfs = []\n",
    "    taskdata_collection = client.collection('foragetask/run1/subjects/{0}/taskdata'.format(subj.id)).stream()\n",
    "    has_end = False # did this subject finish the task?\n",
    "    has_start = False\n",
    "    for tc in taskdata_collection:\n",
    "        # first thing is start... \n",
    "        if tc.id == \"end\":\n",
    "            has_end = True\n",
    "            end_dict = tc.to_dict()\n",
    "            end_time = end_dict['end_time']\n",
    "            bonus_points = end_dict['bonus_points'][0]\n",
    "        elif tc.id == \"start\":\n",
    "            has_start = True\n",
    "            start_dict = tc.to_dict()\n",
    "            subjectID = start_dict['subjectID']\n",
    "            date = start_dict['date']\n",
    "        else:\n",
    "            trial_dict = tc.to_dict()\n",
    "            trial_name = tc.id\n",
    "            trial_data_json = json.loads(trial_dict['trial_data'])\n",
    "            trial_df = pd.DataFrame(trial_data_json)\n",
    "            if has_start:\n",
    "                trial_df['subjectID'] = subjectID\n",
    "                trial_df['date'] = date\n",
    "            else:\n",
    "                trial_df['subjectID'] = None\n",
    "                trial_df['date'] = None\n",
    "            if has_end:\n",
    "                trial_df['bonus_points'] = bonus_points\n",
    "            else:\n",
    "                trial_df['bonus_points'] = None\n",
    "                \n",
    "            subj_dfs.append(trial_df)\n",
    "            \n",
    "    if (has_start & has_end & (len(str(subjectID)) > 20)):\n",
    "        bonus_dict = {'subjectID': subjectID, 'bonus_points': bonus_points}\n",
    "        bonus_df = bonus_df.append(bonus_dict, ignore_index = True)\n",
    "        dfs = dfs + subj_dfs\n",
    "\n",
    "\n",
    "combined_df = pd.concat(dfs, sort = True)\n",
    "combined_df.to_csv('data\\\\run1_data.csv')\n",
    "\n",
    "# make a structure w/ bonus points... \n",
    "def compute_bonus(row):\n",
    "    pct = np.min([np.max([row['bonus_points'] / (30000 - 0),0]),1])\n",
    "    return 2.00*pct\n",
    "                  \n",
    "bonus_df['bonus'] = bonus_df.apply(compute_bonus, axis = 1)\n",
    "bonus_df[['subjectID', 'bonus']].to_csv('bonus_payment_files\\\\run1_bonus_payments.csv', sep = ',', header = False, index = False)\n"
   ]
  },
  {
   "cell_type": "code",
   "execution_count": null,
   "metadata": {},
   "outputs": [],
   "source": []
  }
 ],
 "metadata": {
  "kernelspec": {
   "display_name": "Python 3",
   "language": "python",
   "name": "python3"
  },
  "language_info": {
   "codemirror_mode": {
    "name": "ipython",
    "version": 3
   },
   "file_extension": ".py",
   "mimetype": "text/x-python",
   "name": "python",
   "nbconvert_exporter": "python",
   "pygments_lexer": "ipython3",
   "version": "3.7.1"
  }
 },
 "nbformat": 4,
 "nbformat_minor": 4
}
