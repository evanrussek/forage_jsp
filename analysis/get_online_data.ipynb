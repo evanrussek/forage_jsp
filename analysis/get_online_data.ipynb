{
 "cells": [
  {
   "cell_type": "code",
   "execution_count": 1,
   "metadata": {},
   "outputs": [],
   "source": [
    "import numpy as np\n",
    "import matplotlib.pyplot as plt\n",
    "import matplotlib\n",
    "import seaborn as sns\n",
    "import pandas as pd\n",
    "import firebase_admin\n",
    "from firebase_admin import credentials, firestore, db\n",
    "import json"
   ]
  },
  {
   "cell_type": "code",
   "execution_count": 6,
   "metadata": {},
   "outputs": [],
   "source": [
    "# firebase login stuff\n",
    "\n",
    "### make a credential json...\n",
    "\n",
    "\n",
    "cred = credentials.Certificate(\"C:\\\\Users\\\\erussek\\\\forage_jsp\\\\analysis\\\\foragetask-firebase-privatekey.json\")\n",
    "default_app = firebase_admin.initialize_app(cred)\n",
    "client = firestore.client()"
   ]
  },
  {
   "cell_type": "code",
   "execution_count": 10,
   "metadata": {},
   "outputs": [],
   "source": [
    "for subj in client.collection('foragetask').document('run1').collection('subjects').stream():\n",
    "    # these are the subjects\n",
    "    #print(subj.id)\n",
    "    for r in client.collection('gambletask').document('run3_v').collection('subjects').document(subj.id).collection('rounds').stream():\n",
    "        round_data = r.to_dict()\n",
    "        if not isinstance(round_data['end_time'], type(None)):\n",
    "            print(subj.id)\n"
   ]
  },
  {
   "cell_type": "code",
   "execution_count": null,
   "metadata": {},
   "outputs": [],
   "source": []
  }
 ],
 "metadata": {
  "kernelspec": {
   "display_name": "Python 3",
   "language": "python",
   "name": "python3"
  },
  "language_info": {
   "codemirror_mode": {
    "name": "ipython",
    "version": 3
   },
   "file_extension": ".py",
   "mimetype": "text/x-python",
   "name": "python",
   "nbconvert_exporter": "python",
   "pygments_lexer": "ipython3",
   "version": "3.7.1"
  }
 },
 "nbformat": 4,
 "nbformat_minor": 4
}
