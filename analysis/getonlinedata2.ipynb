{
 "cells": [
  {
   "cell_type": "code",
   "execution_count": 41,
   "metadata": {},
   "outputs": [],
   "source": [
    "import numpy as np\n",
    "import matplotlib.pyplot as plt\n",
    "import matplotlib\n",
    "import seaborn as sns\n",
    "import pandas as pd\n",
    "import firebase_admin\n",
    "from firebase_admin import credentials, firestore, db\n",
    "import json"
   ]
  },
  {
   "cell_type": "code",
   "execution_count": 42,
   "metadata": {},
   "outputs": [
    {
     "ename": "ValueError",
     "evalue": "The default Firebase app already exists. This means you called initialize_app() more than once without providing an app name as the second argument. In most cases you only need to call initialize_app() once. But if you do want to initialize multiple apps, pass a second argument to initialize_app() to give each app a unique name.",
     "output_type": "error",
     "traceback": [
      "\u001b[1;31m---------------------------------------------------------------------------\u001b[0m",
      "\u001b[1;31mValueError\u001b[0m                                Traceback (most recent call last)",
      "\u001b[1;32m<ipython-input-42-f5943c14e865>\u001b[0m in \u001b[0;36m<module>\u001b[1;34m\u001b[0m\n\u001b[0;32m      1\u001b[0m \u001b[1;31m#cred = credentials.Certificate('/Users/evanrussek/forage_jsp/analysis/foragetask-firebase-private-key.json')\u001b[0m\u001b[1;33m\u001b[0m\u001b[1;33m\u001b[0m\u001b[1;33m\u001b[0m\u001b[0m\n\u001b[0;32m      2\u001b[0m \u001b[0mcred\u001b[0m \u001b[1;33m=\u001b[0m \u001b[0mcredentials\u001b[0m\u001b[1;33m.\u001b[0m\u001b[0mCertificate\u001b[0m\u001b[1;33m(\u001b[0m\u001b[1;34m'C:\\\\Users\\\\erussek\\\\forage_jsp\\\\analysis\\\\foragetask-firebase-private-key.json'\u001b[0m\u001b[1;33m)\u001b[0m\u001b[1;33m\u001b[0m\u001b[1;33m\u001b[0m\u001b[0m\n\u001b[1;32m----> 3\u001b[1;33m \u001b[0mdefault_app\u001b[0m \u001b[1;33m=\u001b[0m \u001b[0mfirebase_admin\u001b[0m\u001b[1;33m.\u001b[0m\u001b[0minitialize_app\u001b[0m\u001b[1;33m(\u001b[0m\u001b[0mcred\u001b[0m\u001b[1;33m)\u001b[0m\u001b[1;33m\u001b[0m\u001b[1;33m\u001b[0m\u001b[0m\n\u001b[0m\u001b[0;32m      4\u001b[0m \u001b[0mclient\u001b[0m \u001b[1;33m=\u001b[0m \u001b[0mfirestore\u001b[0m\u001b[1;33m.\u001b[0m\u001b[0mclient\u001b[0m\u001b[1;33m(\u001b[0m\u001b[1;33m)\u001b[0m\u001b[1;33m\u001b[0m\u001b[1;33m\u001b[0m\u001b[0m\n",
      "\u001b[1;32m~\\AppData\\Local\\conda\\conda\\envs\\r_and_py\\lib\\site-packages\\firebase_admin\\__init__.py\u001b[0m in \u001b[0;36minitialize_app\u001b[1;34m(credential, options, name)\u001b[0m\n\u001b[0;32m     72\u001b[0m     \u001b[1;32mif\u001b[0m \u001b[0mname\u001b[0m \u001b[1;33m==\u001b[0m \u001b[0m_DEFAULT_APP_NAME\u001b[0m\u001b[1;33m:\u001b[0m\u001b[1;33m\u001b[0m\u001b[1;33m\u001b[0m\u001b[0m\n\u001b[0;32m     73\u001b[0m         raise ValueError((\n\u001b[1;32m---> 74\u001b[1;33m             \u001b[1;34m'The default Firebase app already exists. This means you called '\u001b[0m\u001b[1;33m\u001b[0m\u001b[1;33m\u001b[0m\u001b[0m\n\u001b[0m\u001b[0;32m     75\u001b[0m             \u001b[1;34m'initialize_app() more than once without providing an app name as '\u001b[0m\u001b[1;33m\u001b[0m\u001b[1;33m\u001b[0m\u001b[0m\n\u001b[0;32m     76\u001b[0m             \u001b[1;34m'the second argument. In most cases you only need to call '\u001b[0m\u001b[1;33m\u001b[0m\u001b[1;33m\u001b[0m\u001b[0m\n",
      "\u001b[1;31mValueError\u001b[0m: The default Firebase app already exists. This means you called initialize_app() more than once without providing an app name as the second argument. In most cases you only need to call initialize_app() once. But if you do want to initialize multiple apps, pass a second argument to initialize_app() to give each app a unique name."
     ]
    }
   ],
   "source": [
    "#cred = credentials.Certificate('/Users/evanrussek/forage_jsp/analysis/foragetask-firebase-private-key.json')\n",
    "cred = credentials.Certificate('C:\\\\Users\\\\erussek\\\\forage_jsp\\\\analysis\\\\foragetask-firebase-private-key.json')\n",
    "default_app = firebase_admin.initialize_app(cred)\n",
    "client = firestore.client()"
   ]
  },
  {
   "cell_type": "code",
   "execution_count": 59,
   "metadata": {},
   "outputs": [
    {
     "name": "stdout",
     "output_type": "stream",
     "text": [
      "0tz8Cw7eVkTKuO2UHapNknfteQJ2\n",
      "GSZ78YOlHoNsKOhOebWzTlFn1qt1\n",
      "HONcxHvqn2hQGdSlCE8rccN5vW73\n",
      "IqlID2KvgGR4bB4BU2TdYby5PC23\n",
      "LXSGIiGuJtNx686E7Tbo3itaOoE3\n",
      "PjboZsy6D1dVFR4AgyTSCBkFjQz2\n",
      "QUgzjuKjOXXI5Oo3fn9gvm1odW53\n",
      "SSqxANlQQHe4i1b8f6obWRiyBcz1\n",
      "Vqgfw0lFe5PTaYVKnZJAn8rawdI2\n",
      "WEiZLxNmo8WhAnvO0IlgBwtC1Nv2\n",
      "Xmf0up8ofRUbwnSLToRvsNBV21E2\n",
      "ZPps9gBHm3OklDx3X9O4sPnPkUz1\n",
      "eT4Ilf2EBcYJtedOlfpnYzWbApp1\n",
      "rRJWJvy7FfXbeci2KSNhvKjUtPv1\n",
      "tExFRQwOYPWyadFLvlsdsfjk3I12\n",
      "teFB7720FGaPsRVqky7AijJldoO2\n",
      "uV8cFS1RBXPE2KrDw2M31RkQeTz2\n",
      "wfLELWIiOFbi49GWsZquujSrppm1\n",
      "yasOSuObuxZ7i9is7TdaJrqngSh2\n",
      "z6kIoIOWfld8M7bfNRqBcRK4RSX2\n"
     ]
    }
   ],
   "source": [
    "dfs = []\n",
    "bonus_df = pd.DataFrame()\n",
    "for subj in client.collection('foragetask').document('run5').collection('subjects').stream():\n",
    "    Qdfs = []\n",
    "    subj_dfs = []\n",
    "    taskdata_collection = client.collection('foragetask/run5/subjects/{0}/taskdata'.format(subj.id)).stream()\n",
    "    has_end = False # did this subject finish the task?\\n\",\n",
    "    has_start = False\n",
    "    subjectID = subj.id\n",
    "    for tc in taskdata_collection:\n",
    "        if tc.id == \"start\":\n",
    "            has_start = True\n",
    "            start_dict = tc.to_dict()\n",
    "            subjectID = start_dict['subjectID']\n",
    "        elif tc.id == \"end\":\n",
    "            print(subj.id) # ok. it's loopint through this too many times...............\n",
    "            has_end = True\n",
    "            end_dict = tc.to_dict()\n",
    "            end_time = end_dict['end_time']\n",
    "            bonus_points = end_dict['bonus_points'][0]\n",
    "        elif tc.id == \"Q_data\":\n",
    "            has_start = True\n",
    "            Q_dict = tc.to_dict()\n",
    "            Q_data_json = json.loads(Q_dict['trial_data'])\n",
    "            Q_df = pd.DataFrame(Q_data_json)\n",
    "            Q_df['subjectID'] = subj.id\n",
    "            Qdfs.append(Q_df)\n",
    "        else:\n",
    "            trial_dict = tc.to_dict()\n",
    "            trial_name = tc.id\n",
    "            trial_data_json = json.loads(trial_dict['trial_data'])\n",
    "            trial_df = pd.DataFrame(trial_data_json)\n",
    "            trial_df['subjectID'] = subjectID\n",
    "            if has_start:\n",
    "                trial_df['subjectID'] = subjectID\n",
    "                #trial_df['date'] = date\n",
    "            else:\n",
    "                trial_df['subjectID'] = None\n",
    "                #trial_df['date'] = None\n",
    "            if has_end:\n",
    "                trial_df['bonus_points'] = bonus_points\n",
    "            else:\n",
    "                trial_df['bonus_points'] = None\n",
    "            subj_dfs.append(trial_df)\n",
    "    if (has_end & (len(str(subjectID)) > 20)):\n",
    "        bonus_dict = {'subjectID': subjectID, 'bonus_points': bonus_points}\n",
    "        bonus_df = bonus_df.append(bonus_dict, ignore_index = True)\n",
    "        dfs = dfs + subj_dfs\n",
    "combined_df = pd.concat(dfs, sort = True)\n",
    "combined_df.to_csv('data/run5_data.csv')"
   ]
  },
  {
   "cell_type": "code",
   "execution_count": 58,
   "metadata": {},
   "outputs": [
    {
     "data": {
      "text/plain": [
       "120"
      ]
     },
     "execution_count": 58,
     "metadata": {},
     "output_type": "execute_result"
    }
   ],
   "source": [
    "len(dfs)"
   ]
  },
  {
   "cell_type": "code",
   "execution_count": 49,
   "metadata": {},
   "outputs": [],
   "source": [
    "def compute_bonus(row):\n",
    "    pct = np.min([np.max([row['bonus_points'] / (30000 - 0),0]),1])\n",
    "    return np.around(2.00*pct, decimals = 2)\n",
    "bonus_df['bonus'] = bonus_df.apply(compute_bonus, axis = 1)"
   ]
  },
  {
   "cell_type": "code",
   "execution_count": 50,
   "metadata": {},
   "outputs": [],
   "source": [
    "bonus_df\n",
    "bonus_df[['subjectID', 'bonus']].to_csv('bonus_payment_files\\\\run5_bonus_payments.csv', sep = ',', header = False, index = False)"
   ]
  },
  {
   "cell_type": "code",
   "execution_count": 33,
   "metadata": {},
   "outputs": [
    {
     "data": {
      "text/plain": [
       "{'subjectID': '5c38a39645529a0001226c91', 'bonus_points': 13810}"
      ]
     },
     "execution_count": 33,
     "metadata": {},
     "output_type": "execute_result"
    }
   ],
   "source": [
    "bonus_dict"
   ]
  },
  {
   "cell_type": "code",
   "execution_count": 51,
   "metadata": {},
   "outputs": [
    {
     "data": {
      "text/html": [
       "<div>\n",
       "<style scoped>\n",
       "    .dataframe tbody tr th:only-of-type {\n",
       "        vertical-align: middle;\n",
       "    }\n",
       "\n",
       "    .dataframe tbody tr th {\n",
       "        vertical-align: top;\n",
       "    }\n",
       "\n",
       "    .dataframe thead th {\n",
       "        text-align: right;\n",
       "    }\n",
       "</style>\n",
       "<table border=\"1\" class=\"dataframe\">\n",
       "  <thead>\n",
       "    <tr style=\"text-align: right;\">\n",
       "      <th></th>\n",
       "      <th>bonus_points</th>\n",
       "      <th>subjectID</th>\n",
       "      <th>bonus</th>\n",
       "    </tr>\n",
       "  </thead>\n",
       "  <tbody>\n",
       "    <tr>\n",
       "      <td>0</td>\n",
       "      <td>20879.0</td>\n",
       "      <td>5accded9a3ba7a0001b504e5</td>\n",
       "      <td>1.39</td>\n",
       "    </tr>\n",
       "    <tr>\n",
       "      <td>1</td>\n",
       "      <td>20925.0</td>\n",
       "      <td>5af33167dd84460001c1dfcf</td>\n",
       "      <td>1.40</td>\n",
       "    </tr>\n",
       "    <tr>\n",
       "      <td>2</td>\n",
       "      <td>11100.0</td>\n",
       "      <td>5d7fdc371c09e60001dd48f5</td>\n",
       "      <td>0.74</td>\n",
       "    </tr>\n",
       "    <tr>\n",
       "      <td>3</td>\n",
       "      <td>32125.0</td>\n",
       "      <td>581ccd016c73180001fa5b2a</td>\n",
       "      <td>2.00</td>\n",
       "    </tr>\n",
       "    <tr>\n",
       "      <td>4</td>\n",
       "      <td>20622.0</td>\n",
       "      <td>5cc0c8b64ded64000152d66e</td>\n",
       "      <td>1.37</td>\n",
       "    </tr>\n",
       "    <tr>\n",
       "      <td>5</td>\n",
       "      <td>12039.0</td>\n",
       "      <td>5c116d14ce422b0001d67607</td>\n",
       "      <td>0.80</td>\n",
       "    </tr>\n",
       "    <tr>\n",
       "      <td>6</td>\n",
       "      <td>14320.0</td>\n",
       "      <td>5dcdc93b4f433409300aa8c8</td>\n",
       "      <td>0.95</td>\n",
       "    </tr>\n",
       "    <tr>\n",
       "      <td>7</td>\n",
       "      <td>15094.0</td>\n",
       "      <td>59dcba5fac0af70001b36245</td>\n",
       "      <td>1.01</td>\n",
       "    </tr>\n",
       "    <tr>\n",
       "      <td>8</td>\n",
       "      <td>14614.0</td>\n",
       "      <td>5755c957eb80c4000741a9ce</td>\n",
       "      <td>0.97</td>\n",
       "    </tr>\n",
       "    <tr>\n",
       "      <td>9</td>\n",
       "      <td>13060.0</td>\n",
       "      <td>58343680ff446c00014fb3e6</td>\n",
       "      <td>0.87</td>\n",
       "    </tr>\n",
       "    <tr>\n",
       "      <td>10</td>\n",
       "      <td>10927.0</td>\n",
       "      <td>5da237c7eb8b3b001196ff8a</td>\n",
       "      <td>0.73</td>\n",
       "    </tr>\n",
       "    <tr>\n",
       "      <td>11</td>\n",
       "      <td>24065.0</td>\n",
       "      <td>5de33c9c93203f36439e775b</td>\n",
       "      <td>1.60</td>\n",
       "    </tr>\n",
       "    <tr>\n",
       "      <td>12</td>\n",
       "      <td>13980.0</td>\n",
       "      <td>5b9aed646a11180001a8082e</td>\n",
       "      <td>0.93</td>\n",
       "    </tr>\n",
       "    <tr>\n",
       "      <td>13</td>\n",
       "      <td>25946.0</td>\n",
       "      <td>57e18aa38e00270001b43925</td>\n",
       "      <td>1.73</td>\n",
       "    </tr>\n",
       "    <tr>\n",
       "      <td>14</td>\n",
       "      <td>16559.0</td>\n",
       "      <td>5c8ebaed13e167000176428f</td>\n",
       "      <td>1.10</td>\n",
       "    </tr>\n",
       "    <tr>\n",
       "      <td>15</td>\n",
       "      <td>5960.0</td>\n",
       "      <td>593f105f02d1cc0001071a72</td>\n",
       "      <td>0.40</td>\n",
       "    </tr>\n",
       "    <tr>\n",
       "      <td>16</td>\n",
       "      <td>8130.0</td>\n",
       "      <td>5b8a73434457e80001f25697</td>\n",
       "      <td>0.54</td>\n",
       "    </tr>\n",
       "    <tr>\n",
       "      <td>17</td>\n",
       "      <td>19431.0</td>\n",
       "      <td>5cbe0f575c7161000191fe80</td>\n",
       "      <td>1.30</td>\n",
       "    </tr>\n",
       "    <tr>\n",
       "      <td>18</td>\n",
       "      <td>13810.0</td>\n",
       "      <td>5c38a39645529a0001226c91</td>\n",
       "      <td>0.92</td>\n",
       "    </tr>\n",
       "    <tr>\n",
       "      <td>19</td>\n",
       "      <td>10290.0</td>\n",
       "      <td>5c4867155707c80001efd958</td>\n",
       "      <td>0.69</td>\n",
       "    </tr>\n",
       "  </tbody>\n",
       "</table>\n",
       "</div>"
      ],
      "text/plain": [
       "    bonus_points                 subjectID  bonus\n",
       "0        20879.0  5accded9a3ba7a0001b504e5   1.39\n",
       "1        20925.0  5af33167dd84460001c1dfcf   1.40\n",
       "2        11100.0  5d7fdc371c09e60001dd48f5   0.74\n",
       "3        32125.0  581ccd016c73180001fa5b2a   2.00\n",
       "4        20622.0  5cc0c8b64ded64000152d66e   1.37\n",
       "5        12039.0  5c116d14ce422b0001d67607   0.80\n",
       "6        14320.0  5dcdc93b4f433409300aa8c8   0.95\n",
       "7        15094.0  59dcba5fac0af70001b36245   1.01\n",
       "8        14614.0  5755c957eb80c4000741a9ce   0.97\n",
       "9        13060.0  58343680ff446c00014fb3e6   0.87\n",
       "10       10927.0  5da237c7eb8b3b001196ff8a   0.73\n",
       "11       24065.0  5de33c9c93203f36439e775b   1.60\n",
       "12       13980.0  5b9aed646a11180001a8082e   0.93\n",
       "13       25946.0  57e18aa38e00270001b43925   1.73\n",
       "14       16559.0  5c8ebaed13e167000176428f   1.10\n",
       "15        5960.0  593f105f02d1cc0001071a72   0.40\n",
       "16        8130.0  5b8a73434457e80001f25697   0.54\n",
       "17       19431.0  5cbe0f575c7161000191fe80   1.30\n",
       "18       13810.0  5c38a39645529a0001226c91   0.92\n",
       "19       10290.0  5c4867155707c80001efd958   0.69"
      ]
     },
     "execution_count": 51,
     "metadata": {},
     "output_type": "execute_result"
    }
   ],
   "source": [
    "bonus_df"
   ]
  },
  {
   "cell_type": "code",
   "execution_count": null,
   "metadata": {},
   "outputs": [],
   "source": []
  }
 ],
 "metadata": {
  "kernelspec": {
   "display_name": "Python 3",
   "language": "python",
   "name": "python3"
  },
  "language_info": {
   "codemirror_mode": {
    "name": "ipython",
    "version": 3
   },
   "file_extension": ".py",
   "mimetype": "text/x-python",
   "name": "python",
   "nbconvert_exporter": "python",
   "pygments_lexer": "ipython3",
   "version": "3.7.1"
  }
 },
 "nbformat": 4,
 "nbformat_minor": 4
}
