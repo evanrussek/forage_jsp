{
 "cells": [
  {
   "cell_type": "code",
   "execution_count": 1,
   "metadata": {},
   "outputs": [],
   "source": [
    "import numpy as np\n",
    "import matplotlib.pyplot as plt\n",
    "import matplotlib\n",
    "import seaborn as sns\n",
    "import pandas as pd\n",
    "import firebase_admin\n",
    "from firebase_admin import credentials, firestore, db\n",
    "import json"
   ]
  },
  {
   "cell_type": "code",
   "execution_count": 8,
   "metadata": {},
   "outputs": [],
   "source": [
    "#cred = credentials.Certificate('/Users/evanrussek/forage_jsp/analysis/foragetask-firebase-private-key.json')\n",
    "cred = credentials.Certificate('C:\\\\Users\\\\erussek\\\\forage_jsp\\\\analysis\\\\foragetask-firebase-private-key.json')\n",
    "default_app = firebase_admin.initialize_app(cred)\n",
    "client = firestore.client()"
   ]
  },
  {
   "cell_type": "code",
   "execution_count": 34,
   "metadata": {},
   "outputs": [
    {
     "name": "stdout",
     "output_type": "stream",
     "text": [
      "GSZ78YOlHoNsKOhOebWzTlFn1qt1\n",
      "HONcxHvqn2hQGdSlCE8rccN5vW73\n",
      "PjboZsy6D1dVFR4AgyTSCBkFjQz2\n",
      "SSqxANlQQHe4i1b8f6obWRiyBcz1\n",
      "Xmf0up8ofRUbwnSLToRvsNBV21E2\n",
      "rRJWJvy7FfXbeci2KSNhvKjUtPv1\n",
      "teFB7720FGaPsRVqky7AijJldoO2\n",
      "uV8cFS1RBXPE2KrDw2M31RkQeTz2\n",
      "wfLELWIiOFbi49GWsZquujSrppm1\n",
      "yasOSuObuxZ7i9is7TdaJrqngSh2\n"
     ]
    }
   ],
   "source": [
    "dfs = []\n",
    "bonus_df = pd.DataFrame()\n",
    "for subj in client.collection('foragetask').document('run5').collection('subjects').stream():\n",
    "    Qdfs = []\n",
    "    subj_dfs = []\n",
    "    taskdata_collection = client.collection('foragetask/run5/subjects/{0}/taskdata'.format(subj.id)).stream()\n",
    "    has_end = False # did this subject finish the task?\\n\",\n",
    "    has_start = False\n",
    "    subjectID = subj.id\n",
    "    for tc in taskdata_collection:\n",
    "        if tc.id == \"start\":\n",
    "            has_start = True\n",
    "            start_dict = tc.to_dict()\n",
    "            subjectID = start_dict['subjectID']\n",
    "        elif tc.id == \"end\":\n",
    "            print(subj.id) # ok. it's loopint through this too many times...............\n",
    "            has_end = True\n",
    "            end_dict = tc.to_dict()\n",
    "            end_time = end_dict['end_time']\n",
    "            bonus_points = end_dict['bonus_points'][0]\n",
    "        elif tc.id == \"Q_data\":\n",
    "            has_start = True\n",
    "            Q_dict = tc.to_dict()\n",
    "            Q_data_json = json.loads(Q_dict['trial_data'])\n",
    "            Q_df = pd.DataFrame(Q_data_json)\n",
    "            Q_df['subjectID'] = subj.id\n",
    "            Qdfs.append(Q_df)\n",
    "        else:\n",
    "            trial_dict = tc.to_dict()\n",
    "            trial_name = tc.id\n",
    "            trial_data_json = json.loads(trial_dict['trial_data'])\n",
    "            trial_df = pd.DataFrame(trial_data_json)\n",
    "            trial_df['subjectID'] = subjectID\n",
    "            if has_start:\n",
    "                trial_df['subjectID'] = subjectID\n",
    "                #trial_df['date'] = date\n",
    "            else:\n",
    "                trial_df['subjectID'] = None\n",
    "                #trial_df['date'] = None\n",
    "            if has_end:\n",
    "                trial_df['bonus_points'] = bonus_points\n",
    "            else:\n",
    "                trial_df['bonus_points'] = None\n",
    "            subj_dfs.append(trial_df)\n",
    "    if (has_end & (len(str(subjectID)) > 20)):\n",
    "        bonus_dict = {'subjectID': subjectID, 'bonus_points': bonus_points}\n",
    "        bonus_df = bonus_df.append(bonus_dict, ignore_index = True)\n",
    "        dfs = dfs + subj_dfs\n",
    "combined_df = pd.concat(dfs, sort = True)\n",
    "combined_df.to_csv('data/run5_data.csv')"
   ]
  },
  {
   "cell_type": "code",
   "execution_count": 35,
   "metadata": {},
   "outputs": [],
   "source": [
    "def compute_bonus(row):\n",
    "    pct = np.min([np.max([row['bonus_points'] / (30000 - 0),0]),1])\n",
    "    return np.around(2.00*pct, decimals = 2)\n",
    "bonus_df['bonus'] = bonus_df.apply(compute_bonus, axis = 1)"
   ]
  },
  {
   "cell_type": "code",
   "execution_count": 38,
   "metadata": {},
   "outputs": [],
   "source": [
    "bonus_df\n",
    "bonus_df[['subjectID', 'bonus']].to_csv('bonus_payment_files\\\\run5_bonus_payments.csv', sep = ',', header = False, index = False)"
   ]
  },
  {
   "cell_type": "code",
   "execution_count": 33,
   "metadata": {},
   "outputs": [
    {
     "data": {
      "text/plain": [
       "{'subjectID': '5c38a39645529a0001226c91', 'bonus_points': 13810}"
      ]
     },
     "execution_count": 33,
     "metadata": {},
     "output_type": "execute_result"
    }
   ],
   "source": [
    "bonus_dict"
   ]
  },
  {
   "cell_type": "code",
   "execution_count": null,
   "metadata": {},
   "outputs": [],
   "source": []
  }
 ],
 "metadata": {
  "kernelspec": {
   "display_name": "Python 3",
   "language": "python",
   "name": "python3"
  },
  "language_info": {
   "codemirror_mode": {
    "name": "ipython",
    "version": 3
   },
   "file_extension": ".py",
   "mimetype": "text/x-python",
   "name": "python",
   "nbconvert_exporter": "python",
   "pygments_lexer": "ipython3",
   "version": "3.7.1"
  }
 },
 "nbformat": 4,
 "nbformat_minor": 4
}
