{
 "cells": [
  {
   "cell_type": "code",
   "execution_count": 1,
   "metadata": {},
   "outputs": [],
   "source": [
    "import numpy as np\n",
    "import matplotlib.pyplot as plt\n",
    "import matplotlib\n",
    "import seaborn as sns\n",
    "import pandas as pd\n",
    "import firebase_admin\n",
    "from firebase_admin import credentials, firestore, db\n",
    "import json"
   ]
  },
  {
   "cell_type": "code",
   "execution_count": 8,
   "metadata": {},
   "outputs": [],
   "source": [
    "#cred = credentials.Certificate('/Users/evanrussek/forage_jsp/analysis/foragetask-firebase-private-key.json')\n",
    "cred = credentials.Certificate('C:\\\\Users\\\\erussek\\\\forage_jsp\\\\analysis\\\\foragetask-firebase-private-key.json')\n",
    "default_app = firebase_admin.initialize_app(cred)\n",
    "client = firestore.client()"
   ]
  },
  {
   "cell_type": "code",
   "execution_count": 12,
   "metadata": {},
   "outputs": [
    {
     "name": "stdout",
     "output_type": "stream",
     "text": [
      "GSZ78YOlHoNsKOhOebWzTlFn1qt1\n"
     ]
    },
    {
     "ename": "NameError",
     "evalue": "name 'bonus_df' is not defined",
     "output_type": "error",
     "traceback": [
      "\u001b[1;31m---------------------------------------------------------------------------\u001b[0m",
      "\u001b[1;31mNameError\u001b[0m                                 Traceback (most recent call last)",
      "\u001b[1;32m<ipython-input-12-c5b03c02a8f6>\u001b[0m in \u001b[0;36m<module>\u001b[1;34m\u001b[0m\n\u001b[0;32m     46\u001b[0m             \u001b[1;32mif\u001b[0m \u001b[1;33m(\u001b[0m\u001b[0mhas_end\u001b[0m \u001b[1;33m&\u001b[0m \u001b[1;33m(\u001b[0m\u001b[0mlen\u001b[0m\u001b[1;33m(\u001b[0m\u001b[0mstr\u001b[0m\u001b[1;33m(\u001b[0m\u001b[0msubjectID\u001b[0m\u001b[1;33m)\u001b[0m\u001b[1;33m)\u001b[0m \u001b[1;33m>\u001b[0m \u001b[1;36m20\u001b[0m\u001b[1;33m)\u001b[0m\u001b[1;33m)\u001b[0m\u001b[1;33m:\u001b[0m\u001b[1;33m\u001b[0m\u001b[1;33m\u001b[0m\u001b[0m\n\u001b[0;32m     47\u001b[0m                 \u001b[0mbonus_dict\u001b[0m \u001b[1;33m=\u001b[0m \u001b[1;33m{\u001b[0m\u001b[1;34m'subjectID'\u001b[0m\u001b[1;33m:\u001b[0m \u001b[0msubjectID\u001b[0m\u001b[1;33m,\u001b[0m \u001b[1;34m'bonus_points'\u001b[0m\u001b[1;33m:\u001b[0m \u001b[0mbonus_points\u001b[0m\u001b[1;33m}\u001b[0m\u001b[1;33m\u001b[0m\u001b[1;33m\u001b[0m\u001b[0m\n\u001b[1;32m---> 48\u001b[1;33m                 \u001b[0mbonus_df\u001b[0m \u001b[1;33m=\u001b[0m \u001b[0mbonus_df\u001b[0m\u001b[1;33m.\u001b[0m\u001b[0mappend\u001b[0m\u001b[1;33m(\u001b[0m\u001b[0mbonus_dict\u001b[0m\u001b[1;33m,\u001b[0m \u001b[0mignore_index\u001b[0m \u001b[1;33m=\u001b[0m \u001b[1;32mTrue\u001b[0m\u001b[1;33m)\u001b[0m\u001b[1;33m\u001b[0m\u001b[1;33m\u001b[0m\u001b[0m\n\u001b[0m\u001b[0;32m     49\u001b[0m                 \u001b[0mdfs\u001b[0m \u001b[1;33m=\u001b[0m \u001b[0mdfs\u001b[0m \u001b[1;33m+\u001b[0m \u001b[0msubj_dfs\u001b[0m\u001b[1;33m\u001b[0m\u001b[1;33m\u001b[0m\u001b[0m\n",
      "\u001b[1;31mNameError\u001b[0m: name 'bonus_df' is not defined"
     ]
    }
   ],
   "source": [
    "for subj in client.collection('foragetask').document('run5').collection('subjects').stream():\n",
    "    subj_dfs = []\n",
    "    taskdata_collection = client.collection('foragetask/run5/subjects/{0}/taskdata'.format(subj.id)).stream()\n",
    "    Qdfs = []\n",
    "    for subj in client.collection('foragetask').document('run5').collection('subjects').stream():\n",
    "        subj_dfs = [],\n",
    "        taskdata_collection = client.collection('foragetask/run5/subjects/{0}/taskdata'.format(subj.id)).stream()\n",
    "        has_end = False # did this subject finish the task?\\n\",\n",
    "        has_start = False\n",
    "        subjectID = subj.id\n",
    "        for tc in taskdata_collection:\n",
    "            if tc.id == \"start\":\n",
    "                has_start = True\n",
    "                start_dict = tc.to_dict()\n",
    "                subjectID = start_dict['subjectID']\n",
    "            elif tc.id == \"end\":\n",
    "                print(subj.id)\n",
    "                has_end = True\n",
    "                end_dict = tc.to_dict()\n",
    "                end_time = end_dict['end_time']\n",
    "                bonus_points = end_dict['bonus_points'][0]\n",
    "            elif tc.id == \"Q_data\":\n",
    "                has_start = True\n",
    "                Q_dict = tc.to_dict()\n",
    "                Q_data_json = json.loads(Q_dict['trial_data'])\n",
    "                Q_df = pd.DataFrame(Q_data_json)\n",
    "                Q_df['subjectID'] = subj.id\n",
    "                Qdfs.append(Q_df)\n",
    "            else:\n",
    "                trial_dict = tc.to_dict()\n",
    "                trial_name = tc.id\n",
    "                trial_data_json = json.loads(trial_dict['trial_data'])\n",
    "                trial_df = pd.DataFrame(trial_data_json)\n",
    "                trial_df['subjectID'] = subjectID\n",
    "                if has_start:\n",
    "                    trial_df['subjectID'] = subjectID\n",
    "                    trial_df['date'] = date\n",
    "                else:\n",
    "                    trial_df['subjectID'] = None\n",
    "                    trial_df['date'] = None\n",
    "                if has_end:\n",
    "                    trial_df['bonus_points'] = bonus_points\n",
    "                else:\n",
    "                    trial_df['bonus_points'] = None\n",
    "                    subj_dfs.append(trial_df)\n",
    "            if (has_end & (len(str(subjectID)) > 20)):\n",
    "                bonus_dict = {'subjectID': subjectID, 'bonus_points': bonus_points}\n",
    "                bonus_df = bonus_df.append(bonus_dict, ignore_index = True)\n",
    "                dfs = dfs + subj_dfs"
   ]
  },
  {
   "cell_type": "code",
   "execution_count": null,
   "metadata": {},
   "outputs": [],
   "source": [
    "# cool."
   ]
  }
 ],
 "metadata": {
  "kernelspec": {
   "display_name": "Python 3",
   "language": "python",
   "name": "python3"
  },
  "language_info": {
   "codemirror_mode": {
    "name": "ipython",
    "version": 3
   },
   "file_extension": ".py",
   "mimetype": "text/x-python",
   "name": "python",
   "nbconvert_exporter": "python",
   "pygments_lexer": "ipython3",
   "version": "3.7.1"
  }
 },
 "nbformat": 4,
 "nbformat_minor": 4
}
