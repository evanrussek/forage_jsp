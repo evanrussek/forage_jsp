{
 "cells": [
  {
   "cell_type": "code",
   "execution_count": null,
   "metadata": {},
   "outputs": [
    {
     "name": "stderr",
     "output_type": "stream",
     "text": [
      "┌ Info: Precompiling DataFramesMeta [1313f7d8-7da2-5740-9ea0-a2ca25f37964]\n",
      "└ @ Base loading.jl:1273\n",
      "┌ Info: Precompiling Gadfly [c91e804a-d5a3-530f-b6f0-dfbca275c004]\n",
      "└ @ Base loading.jl:1273\n"
     ]
    }
   ],
   "source": [
    "cd(\"/Users/evanrussek/forage_jsp/analysis/\")\n",
    "\n",
    "using CSV\n",
    "using DataFrames\n",
    "using DataFramesMeta\n",
    "using CategoricalArrays\n",
    "using Gadfly\n",
    "using MixedModels\n",
    "using StatsBase\n",
    "using Statistics\n",
    "using TableView\n",
    "import Cairo\n"
   ]
  },
  {
   "cell_type": "code",
   "execution_count": null,
   "metadata": {},
   "outputs": [],
   "source": []
  }
 ],
 "metadata": {
  "kernelspec": {
   "display_name": "Julia 1.3.1",
   "language": "julia",
   "name": "julia-1.3"
  },
  "language_info": {
   "file_extension": ".jl",
   "mimetype": "application/julia",
   "name": "julia",
   "version": "1.3.1"
  }
 },
 "nbformat": 4,
 "nbformat_minor": 4
}
